{
  "nbformat": 4,
  "nbformat_minor": 0,
  "metadata": {
    "colab": {
      "name": "hyperparams_opt_neural_network_functional_api.ipynb",
      "provenance": [],
      "collapsed_sections": [
        "-3qrp5xCLwVh",
        "nzoeaCJfNBmG"
      ]
    },
    "kernelspec": {
      "name": "python3",
      "display_name": "Python 3"
    },
    "language_info": {
      "name": "python"
    },
    "accelerator": "GPU",
    "gpuClass": "standard"
  },
  "cells": [
    {
      "cell_type": "markdown",
      "source": [
        "# Boilerplate"
      ],
      "metadata": {
        "id": "-3qrp5xCLwVh"
      }
    },
    {
      "cell_type": "code",
      "execution_count": 37,
      "metadata": {
        "colab": {
          "base_uri": "https://localhost:8080/"
        },
        "id": "lUmHCNXcLqu5",
        "outputId": "075481aa-e3a1-4bc8-dfbb-50bfbed21045"
      },
      "outputs": [
        {
          "output_type": "stream",
          "name": "stdout",
          "text": [
            "Drive already mounted at /content/drive; to attempt to forcibly remount, call drive.mount(\"/content/drive\", force_remount=True).\n"
          ]
        }
      ],
      "source": [
        "from google.colab import drive\n",
        "drive.mount('/content/drive')"
      ]
    },
    {
      "cell_type": "code",
      "source": [
        "# pip install git+https://github.com/scikit-optimize/scikit-optimize.git"
      ],
      "metadata": {
        "id": "ZVOQhgnFLyQ7"
      },
      "execution_count": 44,
      "outputs": []
    },
    {
      "cell_type": "code",
      "source": [
        "import itertools\n",
        "import time\n",
        "import numpy as np\n",
        "import pandas as pd\n",
        "import matplotlib.pyplot as plt\n",
        "\n",
        "from sklearn.model_selection import train_test_split\n",
        "from sklearn.metrics import confusion_matrix"
      ],
      "metadata": {
        "id": "gA0KLjGGL5M1"
      },
      "execution_count": 38,
      "outputs": []
    },
    {
      "cell_type": "code",
      "source": [
        "from tensorflow import keras\n",
        "from tensorflow.keras import layers"
      ],
      "metadata": {
        "id": "UBpkZYkoU03S"
      },
      "execution_count": 39,
      "outputs": []
    },
    {
      "cell_type": "code",
      "source": [
        "from keras.utils.np_utils import to_categorical\n",
        "from keras.models import Sequential, load_model\n",
        "from keras.layers import Dense, Flatten, Conv2D, MaxPool2D\n",
        "from tensorflow.keras.optimizers import Adam\n",
        "from keras.callbacks import ReduceLROnPlateau"
      ],
      "metadata": {
        "id": "m68lWL9CL6kD"
      },
      "execution_count": 40,
      "outputs": []
    },
    {
      "cell_type": "code",
      "source": [
        "from skopt import dummy_minimize, gp_minimize, forest_minimize, gbrt_minimize\n",
        "from skopt.space import Real, Categorical, Integer\n",
        "from skopt.plots import plot_convergence, plot_objective, plot_evaluations\n",
        "from skopt.utils import use_named_args"
      ],
      "metadata": {
        "id": "qcqjYDdxL7r0"
      },
      "execution_count": 41,
      "outputs": []
    },
    {
      "cell_type": "code",
      "source": [
        "from hyperopt import hp, tpe, fmin, Trials\n",
        "from hyperopt import anneal, tpe"
      ],
      "metadata": {
        "id": "mU5vGhuBczZ-"
      },
      "execution_count": 43,
      "outputs": []
    },
    {
      "cell_type": "markdown",
      "source": [
        "# Data preparation"
      ],
      "metadata": {
        "id": "ug8kVbqyL9Hv"
      }
    },
    {
      "cell_type": "code",
      "source": [
        "(x_train, y_train), (x_test, y_test) = keras.datasets.mnist.load_data()"
      ],
      "metadata": {
        "colab": {
          "base_uri": "https://localhost:8080/"
        },
        "id": "x1myvN7Fhb2O",
        "outputId": "647c4070-f648-416e-fbe7-16a4677b775b"
      },
      "execution_count": 45,
      "outputs": [
        {
          "output_type": "stream",
          "name": "stdout",
          "text": [
            "Downloading data from https://storage.googleapis.com/tensorflow/tf-keras-datasets/mnist.npz\n",
            "11493376/11490434 [==============================] - 0s 0us/step\n",
            "11501568/11490434 [==============================] - 0s 0us/step\n"
          ]
        }
      ]
    },
    {
      "cell_type": "code",
      "source": [
        "x_train.shape, x_test.shape"
      ],
      "metadata": {
        "colab": {
          "base_uri": "https://localhost:8080/"
        },
        "id": "Xxav94H9hsDy",
        "outputId": "16464d44-a950-430d-89dd-118ee3cccad4"
      },
      "execution_count": 54,
      "outputs": [
        {
          "output_type": "execute_result",
          "data": {
            "text/plain": [
              "((60000, 28, 28), (10000, 28, 28))"
            ]
          },
          "metadata": {},
          "execution_count": 54
        }
      ]
    },
    {
      "cell_type": "code",
      "source": [
        "# encode targets\n",
        "y_train = to_categorical(y_train, num_classes = 10)\n",
        "y_test = to_categorical(y_test, num_classes = 10)\n",
        "\n",
        "y_train"
      ],
      "metadata": {
        "colab": {
          "base_uri": "https://localhost:8080/"
        },
        "id": "yDlA01tmMvMk",
        "outputId": "75d98c09-1258-4747-8578-1ab90e685736"
      },
      "execution_count": 55,
      "outputs": [
        {
          "output_type": "execute_result",
          "data": {
            "text/plain": [
              "array([[0., 0., 0., ..., 0., 0., 0.],\n",
              "       [1., 0., 0., ..., 0., 0., 0.],\n",
              "       [0., 0., 0., ..., 0., 0., 0.],\n",
              "       ...,\n",
              "       [0., 0., 0., ..., 0., 0., 0.],\n",
              "       [0., 0., 0., ..., 0., 0., 0.],\n",
              "       [0., 0., 0., ..., 0., 1., 0.]], dtype=float32)"
            ]
          },
          "metadata": {},
          "execution_count": 55
        }
      ]
    },
    {
      "cell_type": "markdown",
      "source": [
        "# Define CNN - Functional API model"
      ],
      "metadata": {
        "id": "nzoeaCJfNBmG"
      }
    },
    {
      "cell_type": "code",
      "source": [
        "def create_cnn(learning_rate, num_dense_layers, num_dense_nodes, activation):\n",
        "  inputs = keras.Input(shape=(28,28,1))\n",
        "  x = layers.Conv2D(kernel_size=5, strides=1, filters=16,padding='same',\n",
        "                    activation=activation)(inputs)\n",
        "  x = layers.MaxPool2D(pool_size=2, strides=2)(x)\n",
        "  x = layers.Conv2D(kernel_size=5, strides=1, filters=36,padding='same',\n",
        "                    activation=activation)(x)\n",
        "  x = layers.MaxPool2D(pool_size=2, strides=2)(x)\n",
        "  x = layers.Flatten()(x)\n",
        "  for i in range(num_dense_layers):\n",
        "    x = layers.Dense(num_dense_nodes, activation=activation)(x)\n",
        "  outputs = layers.Dense(10, activation='softmax')(x)\n",
        "  model = keras.Model(inputs=inputs, outputs=outputs)\n",
        "  optimizer = Adam(learning_rate=learning_rate)\n",
        "  model.compile(optimizer=optimizer,\n",
        "                loss='categorical_crossentropy',\n",
        "                metrics=['accuracy'])\n",
        "  return model"
      ],
      "metadata": {
        "id": "PlqBFtemUq4k"
      },
      "execution_count": 58,
      "outputs": []
    },
    {
      "cell_type": "markdown",
      "source": [
        "# Define hyperparameter space"
      ],
      "metadata": {
        "id": "utRftXlGOUY0"
      }
    },
    {
      "cell_type": "code",
      "source": [
        "skopt_param_grid = [\n",
        "    Real(low=1e-6, high=1e-2, prior='log-uniform', name='learning_rate'),\n",
        "    Integer(low=1, high=5, name='num_dense_layers'),\n",
        "    Integer(low=5, high=512, name='num_dense_nodes'),\n",
        "    Categorical(categories=['relu', 'sigmoid'], name='activation')\n",
        "]"
      ],
      "metadata": {
        "id": "mAa5yLoniBYh"
      },
      "execution_count": 59,
      "outputs": []
    },
    {
      "cell_type": "code",
      "source": [
        "# determine the hyperparameter space\n",
        "\n",
        "hyperopt_param_grid = {\n",
        "    'learning_rate': hp.uniform('learning_rate', 1e-6, 1e-2),\n",
        "    # 'num_conv_layers': hp.quniform('num_conv_layers', 1, 3, 1),\n",
        "    'num_dense_layers': hp.quniform('num_dense_layers', 1, 5, 1),\n",
        "    'num_dense_nodes': hp.quniform('num_dense_nodes', 5, 512, 1),\n",
        "    'activation': hp.choice('activation', ['relu', 'sigmoid']),\n",
        "}"
      ],
      "metadata": {
        "id": "Zs-l3iKWiRor"
      },
      "execution_count": 60,
      "outputs": []
    },
    {
      "cell_type": "markdown",
      "source": [
        "# Define objective functions"
      ],
      "metadata": {
        "id": "B-a5tEO2OigO"
      }
    },
    {
      "cell_type": "code",
      "source": [
        "# starting point for the optimization\n",
        "best_accuracy = 0"
      ],
      "metadata": {
        "id": "wxGQ56OaOeH-"
      },
      "execution_count": 64,
      "outputs": []
    },
    {
      "cell_type": "code",
      "source": [
        "@use_named_args(skopt_param_grid)\n",
        "def skopt_objective(learning_rate, num_dense_layers, num_dense_nodes, activation):\n",
        "    # Print the hyper-parameters.\n",
        "    print('learning rate: {0:.1e}'.format(learning_rate))\n",
        "    print('num_dense_layers:', num_dense_layers)\n",
        "    print('num_dense_nodes:', num_dense_nodes)\n",
        "    print('activation:', activation)\n",
        "    print()\n",
        "\n",
        "    # create model\n",
        "    model = create_cnn(learning_rate=learning_rate,\n",
        "                       num_dense_layers=num_dense_layers,\n",
        "                       num_dense_nodes=num_dense_nodes,\n",
        "                       activation=activation)\n",
        "    \n",
        "    # set a learning rate annealer\n",
        "    learning_rate_reduction = ReduceLROnPlateau(monitor='val_accuracy',\n",
        "                                                patience=2,\n",
        "                                                verbose=1,\n",
        "                                                factor=0.5,\n",
        "                                                min_lr=0.00001)\n",
        "    # train model\n",
        "    history = model.fit(x=x_train, y=y_train,\n",
        "                        epochs=3, batch_size=128,\n",
        "                        validation_split=0.1,\n",
        "                        callbacks=learning_rate_reduction)\n",
        "    \n",
        "    # get accuracy\n",
        "    accuracy = history.history['val_accuracy'][-1]\n",
        "  \n",
        "    # Print the classification accuracy.\n",
        "    print()\n",
        "    print(\"Accuracy: {0:.2%}\".format(accuracy))\n",
        "    print()\n",
        "\n",
        "    global best_accuracy\n",
        "\n",
        "    if accuracy > best_accuracy:\n",
        "      # model.save(path_best_model)\n",
        "      best_accuracy = accuracy\n",
        "    \n",
        "    del model\n",
        "    return -accuracy"
      ],
      "metadata": {
        "id": "gCORmperO1pB"
      },
      "execution_count": 65,
      "outputs": []
    },
    {
      "cell_type": "code",
      "source": [
        "def hyperopt_objective(params):\n",
        "    # Print the hyper-parameters.        \n",
        "    print('learning rate: ', params['learning_rate'])\n",
        "    # print('num_conv_layers: ', int(params['num_conv_layers']))\n",
        "    print('num_dense_layers: ',int(params['num_dense_layers']))\n",
        "    print('num_dense_nodes: ', int(params['num_dense_nodes']))\n",
        "    print('activation: ', params['activation'])\n",
        "    print()\n",
        "\n",
        "    model = create_cnn(learning_rate=params['learning_rate'],\n",
        "                      #  num_conv_layers=int(params['num_conv_layers']),\n",
        "                       num_dense_layers=int(params['num_dense_layers']),\n",
        "                       num_dense_nodes=int(params['num_dense_nodes']),\n",
        "                       activation=params['activation'],\n",
        "                       )\n",
        "\n",
        "    learning_rate_reduction = ReduceLROnPlateau(monitor='val_accuracy', \n",
        "                                                patience=2, \n",
        "                                                verbose=1, \n",
        "                                                factor=0.5, \n",
        "                                                min_lr=0.00001)\n",
        "    \n",
        "    history = model.fit(x=x_train,\n",
        "                        y=y_train,\n",
        "                        epochs=3,\n",
        "                        batch_size=128,\n",
        "                        validation_split=0.1,\n",
        "                        callbacks=learning_rate_reduction)\n",
        "    \n",
        "    accuracy = history.history['val_accuracy'][-1]\n",
        "\n",
        "    # Print the classification accuracy.\n",
        "    print()\n",
        "    print(\"Accuracy: {0:.2%}\".format(accuracy))\n",
        "    print()\n",
        "\n",
        "    global best_accuracy\n",
        "\n",
        "    if accuracy > best_accuracy:\n",
        "        # model.save(path_best_model)\n",
        "        best_accuracy = accuracy\n",
        "\n",
        "    # Delete the Keras model with these hyper-parameters from memory.\n",
        "    del model\n",
        "    \n",
        "    return -accuracy"
      ],
      "metadata": {
        "id": "KW1MefVYivE_"
      },
      "execution_count": 66,
      "outputs": []
    },
    {
      "cell_type": "markdown",
      "source": [
        "# Optimization algorithms"
      ],
      "metadata": {
        "id": "lZKbBPp4i43R"
      }
    },
    {
      "cell_type": "markdown",
      "source": [
        "## 1. Randomized Search"
      ],
      "metadata": {
        "id": "XukKEcxKi70E"
      }
    },
    {
      "cell_type": "code",
      "source": [
        "random_start = time.time()\n",
        "random_search = dummy_minimize(\n",
        "    skopt_objective,  \n",
        "    skopt_param_grid,  \n",
        "    n_calls=50,  \n",
        "    random_state=0\n",
        ")\n",
        "random_time = time.time() - random_start"
      ],
      "metadata": {
        "id": "cxzo7PLLi7WI"
      },
      "execution_count": null,
      "outputs": []
    },
    {
      "cell_type": "code",
      "source": [
        "\"Best score=%.4f\" % random_search.fun"
      ],
      "metadata": {
        "colab": {
          "base_uri": "https://localhost:8080/",
          "height": 36
        },
        "id": "hoyKm0_30RmL",
        "outputId": "eae2f55a-46aa-4c52-fc07-a7f36b4f53f1"
      },
      "execution_count": 81,
      "outputs": [
        {
          "output_type": "execute_result",
          "data": {
            "text/plain": [
              "'Best score=-0.9865'"
            ],
            "application/vnd.google.colaboratory.intrinsic+json": {
              "type": "string"
            }
          },
          "metadata": {},
          "execution_count": 81
        }
      ]
    },
    {
      "cell_type": "code",
      "source": [
        "print(\"\"\"Best parameters:\n",
        "=========================\n",
        "- learning rate=%.6f\n",
        "- num_dense_layers=%d\n",
        "- num_nodes=%d\n",
        "- activation = %s\"\"\" % (random_search.x[0], \n",
        "                random_search.x[1],\n",
        "                random_search.x[2],\n",
        "                random_search.x[3]))"
      ],
      "metadata": {
        "colab": {
          "base_uri": "https://localhost:8080/"
        },
        "id": "GglbbjPm0L9f",
        "outputId": "ff576f75-216d-4d0f-cde6-4230650eb127"
      },
      "execution_count": 82,
      "outputs": [
        {
          "output_type": "stream",
          "name": "stdout",
          "text": [
            "Best parameters:\n",
            "=========================\n",
            "- learning rate=0.000270\n",
            "- num_dense_layers=5\n",
            "- num_nodes=126\n",
            "- activation = relu\n"
          ]
        }
      ]
    },
    {
      "cell_type": "markdown",
      "source": [
        "## 2. Bayes Optimization with Gaussian Process"
      ],
      "metadata": {
        "id": "c8-nX3pljc42"
      }
    },
    {
      "cell_type": "code",
      "source": [
        "gp_start = time.time()\n",
        "gp_search = gp_minimize(\n",
        "    skopt_objective, \n",
        "    skopt_param_grid, \n",
        "    n_initial_points=10, \n",
        "    acq_func='EI', \n",
        "    n_calls=50, \n",
        "    random_state=0\n",
        ")\n",
        "gp_time = time.time() - gp_start"
      ],
      "metadata": {
        "id": "f_QdPQJ-i_1v"
      },
      "execution_count": null,
      "outputs": []
    },
    {
      "cell_type": "code",
      "source": [
        "\"Best score=%.4f\" % gp_search.fun"
      ],
      "metadata": {
        "colab": {
          "base_uri": "https://localhost:8080/",
          "height": 36
        },
        "id": "unmN7xoD0VfA",
        "outputId": "80676254-b36c-41b3-a06c-438834d827be"
      },
      "execution_count": 83,
      "outputs": [
        {
          "output_type": "execute_result",
          "data": {
            "text/plain": [
              "'Best score=-0.9855'"
            ],
            "application/vnd.google.colaboratory.intrinsic+json": {
              "type": "string"
            }
          },
          "metadata": {},
          "execution_count": 83
        }
      ]
    },
    {
      "cell_type": "code",
      "source": [
        "print(\"\"\"Best parameters:\n",
        "=========================\n",
        "- learning rate=%.6f\n",
        "- num_dense_layers=%d\n",
        "- num_nodes=%d\n",
        "- activation = %s\"\"\" % (gp_search.x[0], \n",
        "                gp_search.x[1],\n",
        "                gp_search.x[2],\n",
        "                gp_search.x[3]))"
      ],
      "metadata": {
        "colab": {
          "base_uri": "https://localhost:8080/"
        },
        "id": "_u2kgN9z0Wep",
        "outputId": "563d6c1c-74dd-4e1c-a446-d858e3a02060"
      },
      "execution_count": 84,
      "outputs": [
        {
          "output_type": "stream",
          "name": "stdout",
          "text": [
            "Best parameters:\n",
            "=========================\n",
            "- learning rate=0.000405\n",
            "- num_dense_layers=5\n",
            "- num_nodes=512\n",
            "- activation = relu\n"
          ]
        }
      ]
    },
    {
      "cell_type": "markdown",
      "source": [
        "## 3. Bayes Optimization with Random Forests"
      ],
      "metadata": {
        "id": "OighosO8jiel"
      }
    },
    {
      "cell_type": "code",
      "source": [
        "fm_start = time.time()\n",
        "fm_search = forest_minimize(\n",
        "    skopt_objective, \n",
        "    skopt_param_grid, \n",
        "    base_estimator = 'RF', \n",
        "    n_initial_points=10, \n",
        "    acq_func='EI', \n",
        "    n_calls=50, \n",
        "    random_state=0, \n",
        "    n_jobs=5,\n",
        ")\n",
        "fm_time = time.time() - fm_start"
      ],
      "metadata": {
        "id": "RvzaJx5Mjl62"
      },
      "execution_count": null,
      "outputs": []
    },
    {
      "cell_type": "code",
      "source": [
        "\"Best score=%.4f\" % fm_search.fun"
      ],
      "metadata": {
        "colab": {
          "base_uri": "https://localhost:8080/",
          "height": 36
        },
        "id": "PCiY0Lfl0eKZ",
        "outputId": "8f17cb8c-8f79-44b0-f28e-e3ac4a87066a"
      },
      "execution_count": 85,
      "outputs": [
        {
          "output_type": "execute_result",
          "data": {
            "text/plain": [
              "'Best score=-0.9880'"
            ],
            "application/vnd.google.colaboratory.intrinsic+json": {
              "type": "string"
            }
          },
          "metadata": {},
          "execution_count": 85
        }
      ]
    },
    {
      "cell_type": "code",
      "source": [
        "print(\"\"\"Best parameters:\n",
        "=========================\n",
        "- learning rate=%.6f\n",
        "- num_dense_layers=%d\n",
        "- num_nodes=%d\n",
        "- activation = %s\"\"\" % (fm_search.x[0], \n",
        "                fm_search.x[1],\n",
        "                fm_search.x[2],\n",
        "                fm_search.x[3]))"
      ],
      "metadata": {
        "colab": {
          "base_uri": "https://localhost:8080/"
        },
        "id": "I0Mm6zD10fpE",
        "outputId": "ce477cba-6804-4aab-a806-ea567e4ec93a"
      },
      "execution_count": 86,
      "outputs": [
        {
          "output_type": "stream",
          "name": "stdout",
          "text": [
            "Best parameters:\n",
            "=========================\n",
            "- learning rate=0.003259\n",
            "- num_dense_layers=3\n",
            "- num_nodes=373\n",
            "- activation = sigmoid\n"
          ]
        }
      ]
    },
    {
      "cell_type": "markdown",
      "source": [
        "## 4. Bayes Optimization with GBM"
      ],
      "metadata": {
        "id": "CrpXzCbLjpmu"
      }
    },
    {
      "cell_type": "code",
      "source": [
        "gbm_start = time.time()\n",
        "gbm_search = gbrt_minimize(\n",
        "    skopt_objective,\n",
        "    skopt_param_grid, \n",
        "    n_initial_points=10, \n",
        "    acq_func='EI', \n",
        "    n_calls=50, \n",
        "    random_state=0, \n",
        "    n_jobs=5,\n",
        ")\n",
        "gbm_time = time.time() - gbm_start"
      ],
      "metadata": {
        "id": "dWZZbvFRjtpj"
      },
      "execution_count": null,
      "outputs": []
    },
    {
      "cell_type": "code",
      "source": [
        "\"Best score=%.4f\" % gbm_search.fun"
      ],
      "metadata": {
        "colab": {
          "base_uri": "https://localhost:8080/",
          "height": 36
        },
        "id": "kEEPfIXn0nt1",
        "outputId": "466adb32-4842-421a-8270-de33b9fac52d"
      },
      "execution_count": 87,
      "outputs": [
        {
          "output_type": "execute_result",
          "data": {
            "text/plain": [
              "'Best score=-0.9877'"
            ],
            "application/vnd.google.colaboratory.intrinsic+json": {
              "type": "string"
            }
          },
          "metadata": {},
          "execution_count": 87
        }
      ]
    },
    {
      "cell_type": "code",
      "source": [
        "print(\"\"\"Best parameters:\n",
        "=========================\n",
        "- learning rate=%.6f\n",
        "- num_dense_layers=%d\n",
        "- num_nodes=%d\n",
        "- activation = %s\"\"\" % (gbm_search.x[0], \n",
        "                gbm_search.x[1],\n",
        "                gbm_search.x[2],\n",
        "                gbm_search.x[3]))"
      ],
      "metadata": {
        "colab": {
          "base_uri": "https://localhost:8080/"
        },
        "id": "eHAEmSIc0opS",
        "outputId": "9c256e61-6e04-461c-8f98-303e247581e0"
      },
      "execution_count": 88,
      "outputs": [
        {
          "output_type": "stream",
          "name": "stdout",
          "text": [
            "Best parameters:\n",
            "=========================\n",
            "- learning rate=0.000768\n",
            "- num_dense_layers=5\n",
            "- num_nodes=388\n",
            "- activation = relu\n"
          ]
        }
      ]
    },
    {
      "cell_type": "markdown",
      "source": [
        "## 5. Annealing Search"
      ],
      "metadata": {
        "id": "F-YKI-vujvfz"
      }
    },
    {
      "cell_type": "code",
      "source": [
        "anneal_start = time.time()\n",
        "trials_anneal = Trials()\n",
        "anneal_search = fmin(\n",
        "    fn=hyperopt_objective,\n",
        "    space=hyperopt_param_grid,\n",
        "    max_evals=50,\n",
        "    algo=anneal.suggest,\n",
        "    trials = trials_anneal\n",
        ")\n",
        "anneal_time = time.time() - anneal_start"
      ],
      "metadata": {
        "id": "mV7Xz1jIjyIz"
      },
      "execution_count": null,
      "outputs": []
    },
    {
      "cell_type": "code",
      "source": [
        "anneal_results = [trials_anneal.results[i]['loss'] for i in range(len(trials_anneal))]\n",
        "mins_anneal = [np.min(anneal_results[:i]) for i in range(1, len(anneal_results)+1)]"
      ],
      "metadata": {
        "id": "y_UvnWVOj5kx"
      },
      "execution_count": 72,
      "outputs": []
    },
    {
      "cell_type": "markdown",
      "source": [
        "## 6. Tree-structured Parzen Estimators Search"
      ],
      "metadata": {
        "id": "H0meUrHfjzhD"
      }
    },
    {
      "cell_type": "code",
      "source": [
        "tpe_start = time.time()\n",
        "trials_tpe = Trials()\n",
        "tpe_search = fmin(\n",
        "    fn=hyperopt_objective,\n",
        "    space=hyperopt_param_grid,\n",
        "    max_evals=50,\n",
        "    algo=tpe.suggest,\n",
        "    trials = trials_tpe\n",
        ")\n",
        "tpe_time = time.time() - tpe_start"
      ],
      "metadata": {
        "id": "bQf0lNJqj2BM"
      },
      "execution_count": null,
      "outputs": []
    },
    {
      "cell_type": "code",
      "source": [
        "tpe_results = [trials_tpe.results[i]['loss'] for i in range(len(trials_tpe))]\n",
        "mins_tpe = [np.min(tpe_results[:i]) for i in range(1, len(tpe_results)+1)]"
      ],
      "metadata": {
        "id": "U0GiGvq1j2Ie"
      },
      "execution_count": 74,
      "outputs": []
    },
    {
      "cell_type": "markdown",
      "source": [
        "# Plot Charts"
      ],
      "metadata": {
        "id": "QSohcMnVj9bG"
      }
    },
    {
      "cell_type": "code",
      "source": [
        "names = ['random_search', 'gp_search', 'fm_search', \n",
        "        'gbm_search', 'anneal_search', 'tpe_search']\n",
        "convergence_results = [random_search, gp_search, fm_search, gbm_search]\n",
        "time_results = [random_time, gp_time, fm_time, gbm_time, anneal_time, tpe_time]"
      ],
      "metadata": {
        "id": "tqVig1l0j2LW"
      },
      "execution_count": 75,
      "outputs": []
    },
    {
      "cell_type": "code",
      "source": [
        "n_calls = len(convergence_results[0].x_iters)\n",
        "iterations = range(1, n_calls+1)\n",
        "mins = [[np.min(r.func_vals[:i]) for i in iterations]\n",
        "                for r in convergence_results]\n",
        "mins.append(mins_anneal)\n",
        "mins.append(mins_tpe)"
      ],
      "metadata": {
        "id": "ODgV1drej__P"
      },
      "execution_count": 76,
      "outputs": []
    },
    {
      "cell_type": "code",
      "source": [
        "_, axes = plt.subplots(nrows=1, ncols=2, figsize=(15,7))\n",
        "for min, name in zip(mins,names):\n",
        "    axes[0].plot(iterations, min, label=name)\n",
        "axes[0].set_ylim(-0.96, -1)\n",
        "axes[0].set_title('Convergence plot')\n",
        "axes[0].set_ylabel('Negative accuracy')\n",
        "axes[0].set_xlabel('Number of calls')\n",
        "axes[0].legend(frameon=False)\n",
        "\n",
        "axes[1].bar(names, time_results)\n",
        "axes[1].set_xticklabels(names, rotation=45)\n",
        "# axes[1].set_ylim(0,100)\n",
        "axes[1].set_title('Running time')\n",
        "axes[1].set_xlabel('Search algorithms')\n",
        "axes[1].set_ylabel('Time (seconds)')\n",
        "\n",
        "plt.tight_layout()\n",
        "plt.show()\n",
        "# plt.savefig('convergence_plot.jpg')"
      ],
      "metadata": {
        "colab": {
          "base_uri": "https://localhost:8080/",
          "height": 513
        },
        "id": "5QOtdSwdkA7N",
        "outputId": "cd67ce2e-baf7-46e4-f3cd-d6d6e169ec73"
      },
      "execution_count": 91,
      "outputs": [
        {
          "output_type": "display_data",
          "data": {
            "text/plain": [
              "<Figure size 1080x504 with 2 Axes>"
            ],
            "image/png": "[encoded data removed]"
          },
          "metadata": {
            "needs_background": "light"
          }
        }
      ]
    },
    {
      "cell_type": "code",
      "source": [
        ""
      ],
      "metadata": {
        "id": "p1qye51YkCpl"
      },
      "execution_count": null,
      "outputs": []
    }
  ]
}